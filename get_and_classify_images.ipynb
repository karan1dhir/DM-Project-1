{
 "cells": [
  {
   "cell_type": "code",
   "execution_count": 2,
   "id": "1126c693-5d85-48e7-8a36-b66f79042fb6",
   "metadata": {},
   "outputs": [],
   "source": [
    "import numpy as np\n",
    "from tensorflow.keras.models import Sequential, load_model\n",
    "from tensorflow.keras.layers import Conv2D, MaxPooling2D, Dense, Flatten, MaxPooling3D, Conv3D, Dropout, BatchNormalization\n",
    "from tensorflow.keras.utils import to_categorical\n",
    "from tensorflow.keras.preprocessing.image import ImageDataGenerator\n",
    "from tensorflow.keras.callbacks import ModelCheckpoint\n",
    "import tensorflow as tf"
   ]
  },
  {
   "cell_type": "code",
   "execution_count": 3,
   "id": "1c6e0de3-2f30-420b-a6ad-165bee98ae9d",
   "metadata": {},
   "outputs": [
    {
     "name": "stderr",
     "output_type": "stream",
     "text": [
      "2021-11-03 14:11:50.475524: I tensorflow/compiler/jit/xla_cpu_device.cc:41] Not creating XLA devices, tf_xla_enable_xla_devices not set\n",
      "2021-11-03 14:11:50.476026: I tensorflow/core/platform/cpu_feature_guard.cc:142] This TensorFlow binary is optimized with oneAPI Deep Neural Network Library (oneDNN) to use the following CPU instructions in performance-critical operations:  SSE4.2\n",
      "To enable them in other operations, rebuild TensorFlow with the appropriate compiler flags.\n"
     ]
    }
   ],
   "source": [
    "model = load_model(\"model(4).h5\")"
   ]
  },
  {
   "cell_type": "code",
   "execution_count": null,
   "id": "a7aaee8f-d137-4b00-ae20-92df9cbb70cb",
   "metadata": {},
   "outputs": [],
   "source": [
    "import cv2\n",
    "import sys\n",
    "from time import sleep\n",
    "\n",
    "video_capture = cv2.VideoCapture(0)\n",
    "anterior = 0\n",
    "count = 0\n",
    "\n",
    "\n",
    "while True:\n",
    "    if not video_capture.isOpened():\n",
    "        print('Unable to load camera.')\n",
    "        sleep(5)\n",
    "        pass\n",
    "\n",
    "    # Capture frame-by-frame\n",
    "    ret, frame = video_capture.read()\n",
    "\n",
    "\n",
    "    # Display the resulting frame\n",
    "    cv2.imshow('Video', frame)\n",
    "\n",
    "    cv2.imwrite(f\"Images/test/all_classes/_{count}.jpg\", frame)\n",
    "    count += 1\n",
    "\n",
    "    if cv2.waitKey(1) & 0xFF == ord('q'):\n",
    "        break\n",
    "\n",
    "    # Display the resulting frame\n",
    "    cv2.imshow('Video', frame)\n",
    "    \n",
    "    \n",
    "#     test_image = image.img_to_array(frame)\n",
    "#     test_image = cv2.cvtColor(test_image, cv2.COLOR_BGR2GRAY)\n",
    "#     test_image = image.img_to_array(test_image)\n",
    "#     test_image = np.expand_dims(test_image, axis = 0)\n",
    "#     result = model.predict(test_image)\n",
    "    \n",
    "#     print(result)\n",
    "    \n",
    "# When everything is done, release the capture\n",
    "video_capture.release()\n",
    "cv2.destroyAllWindows()\n",
    "\n"
   ]
  },
  {
   "cell_type": "code",
   "execution_count": 11,
   "id": "28bbadd0-93be-42bc-8a92-5e8fa1a0188f",
   "metadata": {},
   "outputs": [
    {
     "name": "stdout",
     "output_type": "stream",
     "text": [
      "Found 433 images belonging to 4 classes.\n",
      "Found 262 images belonging to 2 classes.\n"
     ]
    }
   ],
   "source": [
    "# with help from https://stackoverflow.com/questions/57656661/how-to-prediction-more-than-one-images-after-training-model-with-keras\n",
    "\n",
    "import os\n",
    "from tensorflow.keras.preprocessing import image\n",
    "\n",
    "datagen = ImageDataGenerator()\n",
    "\n",
    "test_it = datagen.flow_from_directory('dataset_new 2/test', color_mode = \"grayscale\")\n",
    "predict_it = datagen.flow_from_directory('Images/test', color_mode = \"grayscale\")\n",
    "\n",
    "# test_image = image.load_img('Images/test/_0.jpg', target_size = (256, 256))\n",
    "# test_image = image.img_to_array(test_image)\n",
    "# test_image = cv2.cvtColor(test_image, cv2.COLOR_BGR2GRAY)\n",
    "# test_image = image.img_to_array(test_image)\n",
    "# test_image = np.expand_dims(test_image, axis = 0)\n",
    "result = model.predict(predict_it)\n",
    "\n"
   ]
  },
  {
   "cell_type": "code",
   "execution_count": 15,
   "id": "3f80fe68-93af-4b29-a4e2-496803b59c17",
   "metadata": {},
   "outputs": [
    {
     "name": "stdout",
     "output_type": "stream",
     "text": [
      "[[3.8876519e-01 2.3403715e-09 5.9927177e-01 1.1963053e-02]\n",
      " [3.6212010e-03 7.2831789e-11 9.9584705e-01 5.3175946e-04]\n",
      " [2.7395079e-01 7.5685280e-10 7.1731555e-01 8.7336302e-03]\n",
      " ...\n",
      " [3.6352634e-07 7.0199902e-14 9.9777126e-01 2.2284314e-03]\n",
      " [7.8227016e-04 1.3816263e-11 9.9538147e-01 3.8362821e-03]\n",
      " [3.0947501e-06 1.2799671e-10 9.6456182e-01 3.5435125e-02]]\n"
     ]
    }
   ],
   "source": [
    "print(result)\n",
    "\n",
    "indices = {y:x for x,y in test_it.class_indices.items()}"
   ]
  },
  {
   "cell_type": "code",
   "execution_count": 13,
   "id": "7333305d-499f-4e82-a724-a16a57448c09",
   "metadata": {},
   "outputs": [],
   "source": [
    "pred = result.argmax(axis=-1)"
   ]
  },
  {
   "cell_type": "code",
   "execution_count": 19,
   "id": "f62f466c-c49e-4446-b707-a3b16b82f9fc",
   "metadata": {},
   "outputs": [],
   "source": [
    "pred = [indices[x] for x in list(pred)]"
   ]
  },
  {
   "cell_type": "code",
   "execution_count": 21,
   "id": "380d97d7-e1ca-413b-93ca-227697f69d8d",
   "metadata": {},
   "outputs": [
    {
     "name": "stdout",
     "output_type": "stream",
     "text": [
      "['no_yawn', 'no_yawn', 'no_yawn', 'no_yawn', 'no_yawn', 'no_yawn', 'no_yawn', 'no_yawn', 'no_yawn', 'no_yawn', 'no_yawn', 'no_yawn', 'no_yawn', 'no_yawn', 'no_yawn', 'no_yawn', 'no_yawn', 'no_yawn', 'no_yawn', 'no_yawn', 'no_yawn', 'no_yawn', 'no_yawn', 'no_yawn', 'no_yawn', 'no_yawn', 'no_yawn', 'no_yawn', 'no_yawn', 'no_yawn', 'no_yawn', 'no_yawn', 'no_yawn', 'no_yawn', 'no_yawn', 'no_yawn', 'no_yawn', 'no_yawn', 'no_yawn', 'no_yawn', 'no_yawn', 'no_yawn', 'no_yawn', 'no_yawn', 'no_yawn', 'no_yawn', 'no_yawn', 'no_yawn', 'no_yawn', 'no_yawn', 'no_yawn', 'Closed', 'no_yawn', 'Closed', 'no_yawn', 'no_yawn', 'no_yawn', 'no_yawn', 'no_yawn', 'no_yawn', 'no_yawn', 'no_yawn', 'no_yawn', 'no_yawn', 'no_yawn', 'no_yawn', 'no_yawn', 'no_yawn', 'no_yawn', 'no_yawn', 'no_yawn', 'no_yawn', 'no_yawn', 'no_yawn', 'no_yawn', 'no_yawn', 'no_yawn', 'no_yawn', 'no_yawn', 'no_yawn', 'no_yawn', 'no_yawn', 'no_yawn', 'no_yawn', 'no_yawn', 'no_yawn', 'no_yawn', 'no_yawn', 'no_yawn', 'no_yawn', 'no_yawn', 'no_yawn', 'no_yawn', 'no_yawn', 'no_yawn', 'no_yawn', 'no_yawn', 'no_yawn', 'no_yawn', 'Closed', 'no_yawn', 'no_yawn', 'no_yawn', 'no_yawn', 'no_yawn', 'no_yawn', 'no_yawn', 'no_yawn', 'no_yawn', 'no_yawn', 'no_yawn', 'no_yawn', 'no_yawn', 'no_yawn', 'no_yawn', 'no_yawn', 'no_yawn', 'no_yawn', 'no_yawn', 'no_yawn', 'no_yawn', 'no_yawn', 'no_yawn', 'no_yawn', 'no_yawn', 'no_yawn', 'no_yawn', 'no_yawn', 'no_yawn', 'no_yawn', 'no_yawn', 'no_yawn', 'no_yawn', 'no_yawn', 'no_yawn', 'no_yawn', 'no_yawn', 'no_yawn', 'no_yawn', 'no_yawn', 'no_yawn', 'no_yawn', 'no_yawn', 'no_yawn', 'no_yawn', 'no_yawn', 'no_yawn', 'Closed', 'no_yawn', 'no_yawn', 'no_yawn', 'no_yawn', 'no_yawn', 'no_yawn', 'no_yawn', 'no_yawn', 'no_yawn', 'no_yawn', 'no_yawn', 'no_yawn', 'yawn', 'no_yawn', 'no_yawn', 'no_yawn', 'no_yawn', 'no_yawn', 'no_yawn', 'no_yawn', 'no_yawn', 'no_yawn', 'no_yawn', 'no_yawn', 'no_yawn', 'no_yawn', 'no_yawn', 'no_yawn', 'no_yawn', 'no_yawn', 'no_yawn', 'no_yawn', 'no_yawn', 'no_yawn', 'no_yawn', 'no_yawn', 'no_yawn', 'no_yawn', 'no_yawn', 'no_yawn', 'no_yawn', 'no_yawn', 'no_yawn', 'no_yawn', 'no_yawn', 'no_yawn', 'no_yawn', 'no_yawn', 'no_yawn', 'no_yawn', 'no_yawn', 'no_yawn', 'no_yawn', 'no_yawn', 'no_yawn', 'no_yawn', 'no_yawn', 'no_yawn', 'no_yawn', 'no_yawn', 'no_yawn', 'no_yawn', 'no_yawn', 'no_yawn', 'no_yawn', 'no_yawn', 'no_yawn', 'no_yawn', 'no_yawn', 'no_yawn', 'no_yawn', 'no_yawn', 'no_yawn', 'no_yawn', 'no_yawn', 'no_yawn', 'no_yawn', 'no_yawn', 'no_yawn', 'no_yawn', 'no_yawn', 'no_yawn', 'no_yawn', 'no_yawn', 'no_yawn', 'no_yawn', 'no_yawn', 'no_yawn', 'no_yawn', 'no_yawn', 'no_yawn', 'no_yawn', 'no_yawn', 'no_yawn', 'no_yawn', 'no_yawn', 'no_yawn', 'no_yawn', 'no_yawn', 'no_yawn', 'no_yawn', 'no_yawn', 'no_yawn', 'no_yawn', 'no_yawn', 'no_yawn', 'no_yawn', 'no_yawn', 'no_yawn', 'Closed', 'no_yawn', 'no_yawn', 'no_yawn', 'no_yawn']\n"
     ]
    }
   ],
   "source": [
    "print(pred)"
   ]
  },
  {
   "cell_type": "code",
   "execution_count": 22,
   "id": "76f837d4-80de-4464-bbdb-f0816cdf72df",
   "metadata": {},
   "outputs": [],
   "source": [
    "# Eye detection with help from https://medium.com/@stepanfilonov/tracking-your-eyes-with-python-3952e66194a6\n",
    "\n",
    "import cv2\n",
    "import numpy\n",
    "face_cascade = cv2.CascadeClassifier('haarcascade_frontalface_default.xml')\n",
    "eye_cascade = cv2.CascadeClassifier('haarcascade_eye.xml')"
   ]
  },
  {
   "cell_type": "code",
   "execution_count": null,
   "id": "039ab974-0a12-4067-be9d-49feae790690",
   "metadata": {},
   "outputs": [],
   "source": []
  }
 ],
 "metadata": {
  "kernelspec": {
   "display_name": "Python 3 (ipykernel)",
   "language": "python",
   "name": "python3"
  },
  "language_info": {
   "codemirror_mode": {
    "name": "ipython",
    "version": 3
   },
   "file_extension": ".py",
   "mimetype": "text/x-python",
   "name": "python",
   "nbconvert_exporter": "python",
   "pygments_lexer": "ipython3",
   "version": "3.8.8"
  }
 },
 "nbformat": 4,
 "nbformat_minor": 5
}
