{
 "cells": [
  {
   "cell_type": "code",
   "execution_count": 1,
   "id": "7bc21b13",
   "metadata": {},
   "outputs": [
    {
     "name": "stdout",
     "output_type": "stream",
     "text": [
      "2.6.0\n"
     ]
    }
   ],
   "source": [
    "\n",
    "\n",
    "import numpy as np\n",
    "import tensorflow as tf\n",
    "print(tf.__version__)\n",
    "from tensorflow.keras.models import Sequential, load_model\n",
    "from tensorflow.keras.layers import Conv2D, MaxPooling2D, Dense, Flatten, MaxPooling3D, Conv3D, Dropout, BatchNormalization\n",
    "from tensorflow.keras.utils import to_categorical\n",
    "from tensorflow.keras.preprocessing.image import ImageDataGenerator\n",
    "from tensorflow.keras.callbacks import ModelCheckpoint\n",
    "\n",
    "import cv2\n",
    "import sys\n",
    "import time\n",
    "from time import sleep\n",
    "from cv2 import resize\n",
    "\n",
    "import os\n",
    "from tensorflow.keras.preprocessing import image"
   ]
  },
  {
   "cell_type": "code",
   "execution_count": 2,
   "id": "9a2f1c45",
   "metadata": {},
   "outputs": [],
   "source": [
    "model_path = \"facial_model-17.h5\"\n",
    "\n",
    "model = load_model(model_path)\n",
    "graph = tf.compat.v1.get_default_graph()\n",
    "\n",
    "# model = load_model(\"facial_model-12.h5\")\n",
    "# model.compile(optimizer=\"adam\",loss=\"mean_squared_error\")\n",
    "\n",
    "# print(model.input)\n",
    "\n",
    "# class_dict = {0: 'Closed', 1: 'Open', 2: 'no_yawn', 3: 'yawn'}"
   ]
  },
  {
   "cell_type": "code",
   "execution_count": null,
   "id": "6009def1",
   "metadata": {},
   "outputs": [
    {
     "name": "stdout",
     "output_type": "stream",
     "text": [
      "Resizing...\n",
      "(720, 1280, 3)\n",
      "Resized\n",
      "(244, 244, 3)\n",
      "(244, 244, 3)\n",
      "Predicting on image of shape... (1, 244, 244, 3)\n"
     ]
    }
   ],
   "source": [
    "# With help from https://www.opencvpython.online/2021/02/opencv-capture-image-from-camera.html\n",
    "\n",
    "video_capture = cv2.VideoCapture(0)\n",
    "count = 0\n",
    "\n",
    "\n",
    "while True:\n",
    "    \n",
    "    start = time.time()\n",
    "    \n",
    "    if not video_capture.isOpened():\n",
    "        print('Unable to load camera.')\n",
    "        sleep(5)\n",
    "        pass\n",
    "\n",
    "    # Capture frame-by-frame\n",
    "    ret, frame = video_capture.read()\n",
    "\n",
    "    count += 1\n",
    "\n",
    "    if cv2.waitKey(1) & 0xFF == ord('q'):\n",
    "        break\n",
    "    \n",
    "    print(\"Resizing...\")\n",
    "    print(frame.shape)\n",
    "    \n",
    "    test_image = resize(frame, (244,244))\n",
    "    \n",
    "    print(\"Resized\")\n",
    "    print(test_image.shape)\n",
    "\n",
    "    test_image = image.img_to_array(test_image)\n",
    "    \n",
    "    print(test_image.shape)\n",
    "    \n",
    "    test_image = np.expand_dims(test_image, axis = 0)\n",
    "    \n",
    "    time.sleep(.1)\n",
    "    \n",
    "    \n",
    "    \n",
    "#     print(test_images.shape)\n",
    "    \n",
    "    print(\"Predicting on image of shape...\", test_image.shape)\n",
    "    \n",
    "    \n",
    "\n",
    "    result = model.predict(\n",
    "                test_image,\n",
    "                verbose=1,\n",
    "                batch_size=None\n",
    "            )\n",
    "\n",
    "    \n",
    "    time.sleep(.1)\n",
    "\n",
    "#     print(result.shape)\n",
    "    print(result[0])\n",
    "    \n",
    "\n",
    "\n",
    "#     cv2.imshow(\"window\", resize(frame, (244,244)))\n",
    "    \n",
    "#     for point in result:\n",
    "#         img = cv2.circle(cv2.imshow(\"window\", resize(frame, (244,244))), tuple([int(x) for x in point[:2]]), radius=1, color=(0, 0, 255), thickness=-1)\n",
    "    \n",
    "#     cv2.imshow(\"window\", resize(frame, (244,244)))\n",
    "\n",
    "        \n",
    "\n",
    "    \n",
    "    \n",
    "# When everything is done, release the capture\n",
    "video_capture.release()\n",
    "cv2.destroyAllWindows()\n",
    "\n"
   ]
  },
  {
   "cell_type": "code",
   "execution_count": null,
   "id": "c2dbead0",
   "metadata": {},
   "outputs": [],
   "source": [
    "\n",
    "\n"
   ]
  },
  {
   "cell_type": "code",
   "execution_count": null,
   "id": "9b679afc",
   "metadata": {},
   "outputs": [],
   "source": []
  },
  {
   "cell_type": "code",
   "execution_count": null,
   "id": "88cb26b2",
   "metadata": {},
   "outputs": [],
   "source": []
  },
  {
   "cell_type": "code",
   "execution_count": null,
   "id": "861abe6f",
   "metadata": {},
   "outputs": [],
   "source": []
  },
  {
   "cell_type": "code",
   "execution_count": null,
   "id": "e74fec23",
   "metadata": {},
   "outputs": [],
   "source": []
  },
  {
   "cell_type": "code",
   "execution_count": null,
   "id": "614ba7c9",
   "metadata": {},
   "outputs": [],
   "source": [
    "\n"
   ]
  },
  {
   "cell_type": "code",
   "execution_count": null,
   "id": "064946a5",
   "metadata": {},
   "outputs": [],
   "source": []
  },
  {
   "cell_type": "code",
   "execution_count": null,
   "id": "629890bb",
   "metadata": {},
   "outputs": [],
   "source": []
  },
  {
   "cell_type": "code",
   "execution_count": null,
   "id": "276f353d",
   "metadata": {},
   "outputs": [],
   "source": []
  }
 ],
 "metadata": {
  "kernelspec": {
   "display_name": "Python 3",
   "language": "python",
   "name": "python3"
  },
  "language_info": {
   "codemirror_mode": {
    "name": "ipython",
    "version": 3
   },
   "file_extension": ".py",
   "mimetype": "text/x-python",
   "name": "python",
   "nbconvert_exporter": "python",
   "pygments_lexer": "ipython3",
   "version": "3.6.13"
  },
  "toc-autonumbering": true,
  "toc-showmarkdowntxt": true
 },
 "nbformat": 4,
 "nbformat_minor": 5
}
