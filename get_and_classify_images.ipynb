{
 "cells": [
  {
   "cell_type": "code",
   "execution_count": null,
   "id": "7c608b4b",
   "metadata": {},
   "outputs": [],
   "source": [
    "import numpy as np\n",
    "import tensorflow as tf\n",
    "from tensorflow.keras.models import Sequential, load_model\n",
    "from tensorflow.keras.layers import Conv2D, MaxPooling2D, Dense, Flatten, MaxPooling3D, Conv3D, Dropout, BatchNormalization\n",
    "from tensorflow.keras.utils import to_categorical\n",
    "from tensorflow.keras.preprocessing.image import ImageDataGenerator\n",
    "from tensorflow.keras.callbacks import ModelCheckpoint\n",
    "\n",
    "import cv2\n",
    "import sys\n",
    "import time\n",
    "from time import sleep\n",
    "from cv2 import resize\n",
    "import os\n",
    "from tensorflow.keras.preprocessing import image"
   ]
  },
  {
   "cell_type": "code",
   "execution_count": null,
   "id": "a19c5f56",
   "metadata": {},
   "outputs": [],
   "source": [
    "model = load_model(\"model-13.h5\")\n",
    "\n",
    "class_dict = {0: 'Closed', 1: 'Open', 2: 'no_yawn', 3: 'yawn'}"
   ]
  },
  {
   "cell_type": "code",
   "execution_count": 2,
   "id": "9eb3e4eb",
   "metadata": {},
   "outputs": [
    {
     "ename": "NameError",
     "evalue": "name 'cv2' is not defined",
     "output_type": "error",
     "traceback": [
      "\u001b[0;31m---------------------------------------------------------------------------\u001b[0m",
      "\u001b[0;31mNameError\u001b[0m                                 Traceback (most recent call last)",
      "\u001b[0;32m/var/folders/jc/wkxxw26x64n0pj9_zhhr878h0000gn/T/ipykernel_13389/1069856485.py\u001b[0m in \u001b[0;36m<module>\u001b[0;34m\u001b[0m\n\u001b[1;32m      1\u001b[0m \u001b[0;31m# With help from https://www.opencvpython.online/2021/02/opencv-capture-image-from-camera.html\u001b[0m\u001b[0;34m\u001b[0m\u001b[0;34m\u001b[0m\u001b[0;34m\u001b[0m\u001b[0m\n\u001b[1;32m      2\u001b[0m \u001b[0;34m\u001b[0m\u001b[0m\n\u001b[0;32m----> 3\u001b[0;31m \u001b[0mvideo_capture\u001b[0m \u001b[0;34m=\u001b[0m \u001b[0mcv2\u001b[0m\u001b[0;34m.\u001b[0m\u001b[0mVideoCapture\u001b[0m\u001b[0;34m(\u001b[0m\u001b[0;36m0\u001b[0m\u001b[0;34m)\u001b[0m\u001b[0;34m\u001b[0m\u001b[0;34m\u001b[0m\u001b[0m\n\u001b[0m\u001b[1;32m      4\u001b[0m \u001b[0mcount\u001b[0m \u001b[0;34m=\u001b[0m \u001b[0;36m0\u001b[0m\u001b[0;34m\u001b[0m\u001b[0;34m\u001b[0m\u001b[0m\n\u001b[1;32m      5\u001b[0m \u001b[0;34m\u001b[0m\u001b[0m\n",
      "\u001b[0;31mNameError\u001b[0m: name 'cv2' is not defined"
     ]
    }
   ],
   "source": [
    "# With help from https://www.opencvpython.online/2021/02/opencv-capture-image-from-camera.html\n",
    "\n",
    "video_capture = cv2.VideoCapture(0)\n",
    "count = 0\n",
    "\n",
    "\n",
    "while True:\n",
    "    \n",
    "    start = time.time()\n",
    "    \n",
    "    if not video_capture.isOpened():\n",
    "        print('Unable to load camera.')\n",
    "        sleep(5)\n",
    "        pass\n",
    "\n",
    "    # Capture frame-by-frame\n",
    "    ret, frame = video_capture.read()\n",
    "\n",
    "    cv2.imwrite(f\"Images/test/all_classes/_{count}.jpg\", frame)\n",
    "    count += 1\n",
    "\n",
    "    if cv2.waitKey(1) & 0xFF == ord('q'):\n",
    "        break\n",
    "    \n",
    "    test_image = resize(frame, (256,256))\n",
    "    \n",
    "    test_image = image.img_to_array(test_image)\n",
    "    test_image = cv2.cvtColor(test_image, cv2.COLOR_BGR2GRAY)\n",
    "    test_image = image.img_to_array(test_image)\n",
    "    test_image = np.expand_dims(test_image, axis = 0)\n",
    "    result = model.predict(test_image)\n",
    "    \n",
    "    pred = result.argmax(axis=-1)\n",
    "    \n",
    "    pred = [class_dict[x] for x in list(pred)]\n",
    "    \n",
    "    end = time.time()\n",
    "    \n",
    "    frame = cv2.putText(frame, pred[0], org = (100,200), fontFace = 1, fontScale = 5, color = [256,0,0])\n",
    "    \n",
    "    cv2.imshow('Video', frame)\n",
    "    \n",
    "    \n",
    "    print(\"Seconds per frame: \", end-start)\n",
    "    \n",
    "# When everything is done, release the capture\n",
    "video_capture.release()\n",
    "cv2.destroyAllWindows()\n",
    "\n"
   ]
  },
  {
   "cell_type": "code",
   "execution_count": null,
   "id": "afaced95",
   "metadata": {},
   "outputs": [],
   "source": [
    "# with help from https://stackoverflow.com/questions/57656661/how-to-prediction-more-than-one-images-after-training-model-with-keras\n",
    "\n",
    "\n",
    "\n",
    "datagen = ImageDataGenerator()\n",
    "\n",
    "test_it = datagen.flow_from_directory('dataset_new 2/test', color_mode = \"grayscale\")\n",
    "predict_it = datagen.flow_from_directory('Images/test', color_mode = \"grayscale\")\n",
    "\n",
    "# test_image = image.load_img('Images/test/_0.jpg', target_size = (256, 256))\n",
    "# test_image = image.img_to_array(test_image)\n",
    "# test_image = cv2.cvtColor(test_image, cv2.COLOR_BGR2GRAY)\n",
    "# test_image = image.img_to_array(test_image)\n",
    "# test_image = np.expand_dims(test_image, axis = 0)\n",
    "result = model.predict(predict_it)\n",
    "\n"
   ]
  },
  {
   "cell_type": "code",
   "execution_count": null,
   "id": "3fb17538",
   "metadata": {},
   "outputs": [],
   "source": []
  },
  {
   "cell_type": "code",
   "execution_count": 10,
   "id": "e6ba1dfa",
   "metadata": {},
   "outputs": [],
   "source": []
  },
  {
   "cell_type": "code",
   "execution_count": 11,
   "id": "2c31c4a9",
   "metadata": {},
   "outputs": [],
   "source": []
  },
  {
   "cell_type": "code",
   "execution_count": null,
   "id": "dc916d9f",
   "metadata": {},
   "outputs": [],
   "source": []
  },
  {
   "cell_type": "code",
   "execution_count": null,
   "id": "dba7aef9",
   "metadata": {},
   "outputs": [],
   "source": [
    "\n"
   ]
  },
  {
   "cell_type": "code",
   "execution_count": null,
   "id": "c8440900",
   "metadata": {},
   "outputs": [],
   "source": []
  },
  {
   "cell_type": "code",
   "execution_count": null,
   "id": "5e224849",
   "metadata": {},
   "outputs": [],
   "source": []
  },
  {
   "cell_type": "code",
   "execution_count": null,
   "id": "6460ee34",
   "metadata": {},
   "outputs": [],
   "source": []
  }
 ],
 "metadata": {
  "kernelspec": {
   "display_name": "Python 3 (ipykernel)",
   "language": "python",
   "name": "python3"
  },
  "language_info": {
   "codemirror_mode": {
    "name": "ipython",
    "version": 3
   },
   "file_extension": ".py",
   "mimetype": "text/x-python",
   "name": "python",
   "nbconvert_exporter": "python",
   "pygments_lexer": "ipython3",
   "version": "3.8.12"
  },
  "toc-autonumbering": true,
  "toc-showmarkdowntxt": true
 },
 "nbformat": 4,
 "nbformat_minor": 5
}
